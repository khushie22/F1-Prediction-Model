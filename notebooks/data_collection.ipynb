{
  "cells": [
    {
      "cell_type": "markdown",
      "metadata": {},
      "source": [
        "# F1 Data Collection for Singapore GP Prediction\n",
        "\n",
        "This notebook collects comprehensive historical F1 data including:\n",
        "- Singapore GP results (2008-2024)\n",
        "- Driver performance statistics\n",
        "- Team/Constructor performance\n",
        "- Weather data\n",
        "- Track characteristics\n"
      ]
    },
    {
      "cell_type": "code",
      "execution_count": 1,
      "metadata": {},
      "outputs": [
        {
          "name": "stdout",
          "output_type": "stream",
          "text": [
            "Data collection setup complete!\n"
          ]
        }
      ],
      "source": [
        "import pandas as pd\n",
        "import numpy as np\n",
        "import requests\n",
        "import json\n",
        "import time\n",
        "from datetime import datetime, timedelta\n",
        "import fastf1\n",
        "import os\n",
        "from pathlib import Path\n",
        "\n",
        "# Enable FastF1 cache\n",
        "fastf1.Cache.enable_cache('../f1_cache')\n",
        "\n",
        "# Set up data directory\n",
        "data_dir = Path('../data')\n",
        "data_dir.mkdir(exist_ok=True)\n",
        "\n",
        "print(\"Data collection setup complete!\")\n"
      ]
    },
    {
      "cell_type": "markdown",
      "metadata": {},
      "source": [
        "## 1. Singapore GP Historical Results (2008-2024)"
      ]
    },
    {
      "cell_type": "code",
      "execution_count": 2,
      "metadata": {},
      "outputs": [
        {
          "name": "stderr",
          "output_type": "stream",
          "text": [
            "core           INFO \tLoading data for Singapore Grand Prix - Race [v3.6.1]\n",
            "req            INFO \tNo cached data found for session_info. Loading data...\n",
            "_api           INFO \tFetching session info data...\n"
          ]
        },
        {
          "name": "stdout",
          "output_type": "stream",
          "text": [
            "Collecting 2008 Singapore GP data...\n"
          ]
        },
        {
          "name": "stderr",
          "output_type": "stream",
          "text": [
            "logger      WARNING \tFailed to load session info data!\n",
            "core        WARNING \tCannot load laps, telemetry, weather, and message data because the relevant API is not supported for this session.\n",
            "core           INFO \tFinished loading data for 20 drivers: ['5', '7', '22', '12', '15', '3', '9', '8', '16', '23', '4', '14', '2', '21', '1', '11', '20', '10', '17', '6']\n",
            "core           INFO \tLoading data for Singapore Grand Prix - Race [v3.6.1]\n",
            "req            INFO \tNo cached data found for session_info. Loading data...\n",
            "_api           INFO \tFetching session info data...\n"
          ]
        },
        {
          "name": "stdout",
          "output_type": "stream",
          "text": [
            "Collecting 2009 Singapore GP data...\n"
          ]
        },
        {
          "name": "stderr",
          "output_type": "stream",
          "text": [
            "logger      WARNING \tFailed to load session info data!\n",
            "core        WARNING \tCannot load laps, telemetry, weather, and message data because the relevant API is not supported for this session.\n",
            "core           INFO \tFinished loading data for 20 drivers: ['1', '10', '7', '15', '22', '23', '2', '5', '17', '4', '16', '9', '3', '21', '11', '12', '14', '20', '6', '8']\n",
            "core           INFO \tLoading data for Singapore Grand Prix - Race [v3.6.1]\n",
            "req            INFO \tNo cached data found for session_info. Loading data...\n",
            "_api           INFO \tFetching session info data...\n"
          ]
        },
        {
          "name": "stdout",
          "output_type": "stream",
          "text": [
            "Collecting 2010 Singapore GP data...\n"
          ]
        },
        {
          "name": "stderr",
          "output_type": "stream",
          "text": [
            "logger      WARNING \tFailed to load session info data!\n",
            "core        WARNING \tCannot load laps, telemetry, weather, and message data because the relevant API is not supported for this session.\n",
            "core           INFO \tFinished loading data for 24 drivers: ['8', '5', '6', '1', '4', '9', '11', '7', '14', '10', '12', '17', '3', '16', '25', '19', '24', '22', '2', '20', '23', '21', '18', '15']\n",
            "core           INFO \tLoading data for Singapore Grand Prix - Race [v3.6.1]\n",
            "req            INFO \tNo cached data found for session_info. Loading data...\n",
            "_api           INFO \tFetching session info data...\n"
          ]
        },
        {
          "name": "stdout",
          "output_type": "stream",
          "text": [
            "Collecting 2011 Singapore GP data...\n"
          ]
        },
        {
          "name": "stderr",
          "output_type": "stream",
          "text": [
            "logger      WARNING \tFailed to load session info data!\n",
            "core        WARNING \tCannot load laps, telemetry, weather, and message data because the relevant API is not supported for this session.\n",
            "core           INFO \tFinished loading data for 24 drivers: ['1', '4', '2', '5', '3', '15', '8', '14', '6', '17', '12', '18', '11', '16', '9', '20', '10', '25', '22', '23', '19', '21', '7', '24']\n",
            "core           INFO \tLoading data for Singapore Grand Prix - Race [v3.6.1]\n",
            "req            INFO \tNo cached data found for session_info. Loading data...\n",
            "_api           INFO \tFetching session info data...\n"
          ]
        },
        {
          "name": "stdout",
          "output_type": "stream",
          "text": [
            "Collecting 2012 Singapore GP data...\n"
          ]
        },
        {
          "name": "stderr",
          "output_type": "stream",
          "text": [
            "logger      WARNING \tFailed to load session info data!\n",
            "core        WARNING \tCannot load laps, telemetry, weather, and message data because the relevant API is not supported for this session.\n",
            "core           INFO \tFinished loading data for 24 drivers: ['1', '3', '5', '11', '8', '9', '10', '6', '16', '15', '2', '24', '14', '12', '20', '25', '22', '19', '21', '17', '7', '18', '23', '4']\n",
            "core           INFO \tLoading data for Singapore Grand Prix - Race [v3.6.1]\n",
            "req            INFO \tNo cached data found for session_info. Loading data...\n",
            "_api           INFO \tFetching session info data...\n"
          ]
        },
        {
          "name": "stdout",
          "output_type": "stream",
          "text": [
            "Collecting 2013 Singapore GP data...\n"
          ]
        },
        {
          "name": "stderr",
          "output_type": "stream",
          "text": [
            "logger      WARNING \tFailed to load session info data!\n",
            "core        WARNING \tCannot load laps, telemetry, weather, and message data because the relevant API is not supported for this session.\n",
            "core           INFO \tFinished loading data for 22 drivers: ['1', '3', '7', '9', '10', '4', '5', '6', '11', '15', '16', '12', '17', '18', '2', '21', '23', '22', '20', '14', '8', '19']\n",
            "core           INFO \tLoading data for Singapore Grand Prix - Race [v3.6.1]\n",
            "req            INFO \tNo cached data found for session_info. Loading data...\n",
            "_api           INFO \tFetching session info data...\n"
          ]
        },
        {
          "name": "stdout",
          "output_type": "stream",
          "text": [
            "Collecting 2014 Singapore GP data...\n"
          ]
        },
        {
          "name": "stderr",
          "output_type": "stream",
          "text": [
            "logger      WARNING \tFailed to load session info data!\n",
            "core        WARNING \tCannot load laps, telemetry, weather, and message data because the relevant API is not supported for this session.\n",
            "core           INFO \tFinished loading data for 22 drivers: ['44', '1', '3', '14', '19', '25', '11', '7', '27', '20', '77', '13', '8', '26', '9', '17', '4', '22', '99', '21', '6', '10']\n",
            "core           INFO \tLoading data for Singapore Grand Prix - Race [v3.6.1]\n",
            "req            INFO \tNo cached data found for session_info. Loading data...\n",
            "_api           INFO \tFetching session info data...\n"
          ]
        },
        {
          "name": "stdout",
          "output_type": "stream",
          "text": [
            "Collecting 2015 Singapore GP data...\n"
          ]
        },
        {
          "name": "stderr",
          "output_type": "stream",
          "text": [
            "logger      WARNING \tFailed to load session info data!\n",
            "core        WARNING \tCannot load laps, telemetry, weather, and message data because the relevant API is not supported for this session.\n",
            "core           INFO \tFinished loading data for 20 drivers: ['5', '3', '7', '6', '77', '26', '11', '33', '55', '12', '9', '13', '8', '53', '28', '22', '14', '44', '19', '27']\n",
            "core           INFO \tLoading data for Singapore Grand Prix - Race [v3.6.1]\n",
            "req            INFO \tNo cached data found for session_info. Loading data...\n",
            "_api           INFO \tFetching session info data...\n"
          ]
        },
        {
          "name": "stdout",
          "output_type": "stream",
          "text": [
            "Collecting 2016 Singapore GP data...\n"
          ]
        },
        {
          "name": "stderr",
          "output_type": "stream",
          "text": [
            "logger      WARNING \tFailed to load session info data!\n",
            "core        WARNING \tCannot load laps, telemetry, weather, and message data because the relevant API is not supported for this session.\n",
            "core           INFO \tFinished loading data for 22 drivers: ['6', '3', '44', '7', '5', '33', '14', '11', '26', '20', '21', '19', '12', '55', '30', '94', '9', '31', '22', '77', '27', '8']\n",
            "core           INFO \tLoading data for Singapore Grand Prix - Race [v3.6.1]\n",
            "req            INFO \tNo cached data found for session_info. Loading data...\n",
            "_api           INFO \tFetching session info data...\n"
          ]
        },
        {
          "name": "stdout",
          "output_type": "stream",
          "text": [
            "Collecting 2017 Singapore GP data...\n"
          ]
        },
        {
          "name": "stderr",
          "output_type": "stream",
          "text": [
            "logger      WARNING \tFailed to load session info data!\n",
            "core        WARNING \tCannot load laps, telemetry, weather, and message data because the relevant API is not supported for this session.\n",
            "core           INFO \tFinished loading data for 20 drivers: ['44', '3', '77', '55', '11', '30', '2', '18', '8', '31', '19', '94', '20', '27', '9', '26', '14', '5', '33', '7']\n"
          ]
        },
        {
          "name": "stdout",
          "output_type": "stream",
          "text": [
            "Collecting 2018 Singapore GP data...\n"
          ]
        },
        {
          "name": "stderr",
          "output_type": "stream",
          "text": [
            "core           INFO \tLoading data for Singapore Grand Prix - Race [v3.6.1]\n",
            "req            INFO \tUsing cached data for session_info\n",
            "req            INFO \tUsing cached data for driver_info\n",
            "req            INFO \tUsing cached data for session_status_data\n",
            "req            INFO \tUsing cached data for lap_count\n",
            "req            INFO \tUsing cached data for track_status_data\n",
            "req            INFO \tUsing cached data for _extended_timing_data\n",
            "req            INFO \tUsing cached data for timing_app_data\n",
            "core           INFO \tProcessing timing data...\n",
            "req            INFO \tUsing cached data for car_data\n",
            "req            INFO \tUsing cached data for position_data\n",
            "req            INFO \tUsing cached data for weather_data\n",
            "req            INFO \tUsing cached data for race_control_messages\n",
            "core        WARNING \tDriver 44 completed the race distance 00:00.017000 before the recorded end of the session.\n",
            "core           INFO \tFinished loading data for 20 drivers: ['44', '33', '5', '77', '7', '3', '14', '55', '16', '27', '9', '2', '10', '18', '8', '11', '28', '20', '35', '31']\n"
          ]
        },
        {
          "name": "stdout",
          "output_type": "stream",
          "text": [
            "Collecting 2019 Singapore GP data...\n"
          ]
        },
        {
          "name": "stderr",
          "output_type": "stream",
          "text": [
            "core           INFO \tLoading data for Singapore Grand Prix - Race [v3.6.1]\n",
            "req            INFO \tUsing cached data for session_info\n",
            "req            INFO \tUsing cached data for driver_info\n",
            "req            INFO \tUsing cached data for session_status_data\n",
            "req            INFO \tUsing cached data for lap_count\n",
            "req            INFO \tUsing cached data for track_status_data\n",
            "req            INFO \tUsing cached data for _extended_timing_data\n",
            "req            INFO \tUsing cached data for timing_app_data\n",
            "core           INFO \tProcessing timing data...\n",
            "req            INFO \tUsing cached data for car_data\n",
            "req            INFO \tUsing cached data for position_data\n",
            "req            INFO \tUsing cached data for weather_data\n",
            "req            INFO \tUsing cached data for race_control_messages\n",
            "core        WARNING \tDriver 5 completed the race distance 00:00.171000 before the recorded end of the session.\n",
            "core           INFO \tFinished loading data for 20 drivers: ['5', '16', '33', '44', '77', '23', '4', '10', '27', '99', '8', '55', '18', '3', '26', '88', '20', '7', '11', '63']\n"
          ]
        },
        {
          "name": "stdout",
          "output_type": "stream",
          "text": [
            "Collecting 2020 Singapore GP data...\n"
          ]
        },
        {
          "name": "stderr",
          "output_type": "stream",
          "text": [
            "events      WARNING \tCorrecting user input 'Singapore' to 'Hungarian Grand Prix'\n",
            "core           INFO \tLoading data for Hungarian Grand Prix - Race [v3.6.1]\n",
            "req            INFO \tUsing cached data for session_info\n",
            "req            INFO \tUsing cached data for driver_info\n",
            "req            INFO \tUsing cached data for session_status_data\n",
            "req            INFO \tUsing cached data for lap_count\n",
            "req            INFO \tUsing cached data for track_status_data\n",
            "req            INFO \tUsing cached data for _extended_timing_data\n",
            "req            INFO \tUsing cached data for timing_app_data\n",
            "core           INFO \tProcessing timing data...\n",
            "core        WARNING \tFixed incorrect tyre stint information for driver '20'\n",
            "core        WARNING \tFixed incorrect tyre stint information for driver '8'\n",
            "req            INFO \tUsing cached data for car_data\n",
            "req            INFO \tUsing cached data for position_data\n",
            "req            INFO \tUsing cached data for weather_data\n",
            "req            INFO \tUsing cached data for race_control_messages\n",
            "core        WARNING \tDriver 44 completed the race distance 00:00.098000 before the recorded end of the session.\n",
            "core           INFO \tFinished loading data for 20 drivers: ['44', '33', '77', '18', '23', '5', '11', '3', '55', '20', '16', '26', '4', '31', '7', '8', '99', '63', '6', '10']\n"
          ]
        },
        {
          "name": "stdout",
          "output_type": "stream",
          "text": [
            "Collecting 2021 Singapore GP data...\n"
          ]
        },
        {
          "name": "stderr",
          "output_type": "stream",
          "text": [
            "events      WARNING \tCorrecting user input 'Singapore' to 'Hungarian Grand Prix'\n",
            "core           INFO \tLoading data for Hungarian Grand Prix - Race [v3.6.1]\n",
            "req            INFO \tUsing cached data for session_info\n",
            "req            INFO \tUsing cached data for driver_info\n",
            "req            INFO \tUsing cached data for session_status_data\n",
            "req            INFO \tUsing cached data for lap_count\n",
            "req            INFO \tUsing cached data for track_status_data\n",
            "req            INFO \tUsing cached data for _extended_timing_data\n",
            "req            INFO \tUsing cached data for timing_app_data\n",
            "core           INFO \tProcessing timing data...\n",
            "req            INFO \tUsing cached data for car_data\n",
            "req            INFO \tUsing cached data for position_data\n",
            "req            INFO \tUsing cached data for weather_data\n",
            "req            INFO \tUsing cached data for race_control_messages\n",
            "core        WARNING \tDriver 31 completed the race distance 00:00.068000 before the recorded end of the session.\n",
            "core           INFO \tFinished loading data for 20 drivers: ['31', '44', '55', '14', '10', '22', '6', '63', '33', '7', '3', '47', '99', '9', '4', '77', '11', '16', '18', '5']\n"
          ]
        },
        {
          "name": "stdout",
          "output_type": "stream",
          "text": [
            "Collecting 2022 Singapore GP data...\n"
          ]
        },
        {
          "name": "stderr",
          "output_type": "stream",
          "text": [
            "core           INFO \tLoading data for Singapore Grand Prix - Race [v3.6.1]\n",
            "req            INFO \tUsing cached data for session_info\n",
            "req            INFO \tUsing cached data for driver_info\n",
            "req            INFO \tUsing cached data for session_status_data\n",
            "req            INFO \tUsing cached data for lap_count\n",
            "req            INFO \tUsing cached data for track_status_data\n",
            "req            INFO \tUsing cached data for _extended_timing_data\n",
            "req            INFO \tUsing cached data for timing_app_data\n",
            "core           INFO \tProcessing timing data...\n",
            "req            INFO \tUsing cached data for car_data\n",
            "req            INFO \tUsing cached data for position_data\n",
            "req            INFO \tUsing cached data for weather_data\n",
            "req            INFO \tUsing cached data for race_control_messages\n",
            "core           INFO \tFinished loading data for 20 drivers: ['11', '16', '55', '4', '3', '18', '1', '5', '44', '10', '77', '20', '47', '63', '22', '31', '23', '14', '6', '24']\n"
          ]
        },
        {
          "name": "stdout",
          "output_type": "stream",
          "text": [
            "Collecting 2023 Singapore GP data...\n"
          ]
        },
        {
          "name": "stderr",
          "output_type": "stream",
          "text": [
            "core           INFO \tLoading data for Singapore Grand Prix - Race [v3.6.1]\n",
            "req            INFO \tUsing cached data for session_info\n",
            "req            INFO \tUsing cached data for driver_info\n",
            "req            INFO \tUsing cached data for session_status_data\n",
            "req            INFO \tUsing cached data for lap_count\n",
            "req            INFO \tUsing cached data for track_status_data\n",
            "req            INFO \tUsing cached data for _extended_timing_data\n",
            "req            INFO \tUsing cached data for timing_app_data\n",
            "core           INFO \tProcessing timing data...\n",
            "core        WARNING \tNo lap data for driver 18\n",
            "core        WARNING \tFailed to perform lap accuracy check - all laps marked as inaccurate (driver 18)\n",
            "req            INFO \tUsing cached data for car_data\n",
            "req            INFO \tUsing cached data for position_data\n",
            "req            INFO \tUsing cached data for weather_data\n",
            "req            INFO \tUsing cached data for race_control_messages\n",
            "core           INFO \tFinished loading data for 20 drivers: ['55', '4', '44', '16', '1', '10', '81', '11', '40', '20', '23', '24', '27', '2', '14', '63', '77', '31', '22', '18']\n"
          ]
        },
        {
          "name": "stdout",
          "output_type": "stream",
          "text": [
            "Collecting 2024 Singapore GP data...\n"
          ]
        },
        {
          "name": "stderr",
          "output_type": "stream",
          "text": [
            "core           INFO \tLoading data for Singapore Grand Prix - Race [v3.6.1]\n",
            "req            INFO \tUsing cached data for session_info\n",
            "req            INFO \tUsing cached data for driver_info\n",
            "req            INFO \tUsing cached data for session_status_data\n",
            "req            INFO \tUsing cached data for lap_count\n",
            "req            INFO \tUsing cached data for track_status_data\n",
            "req            INFO \tUsing cached data for _extended_timing_data\n",
            "req            INFO \tUsing cached data for timing_app_data\n",
            "core           INFO \tProcessing timing data...\n",
            "req            INFO \tUsing cached data for car_data\n",
            "req            INFO \tUsing cached data for position_data\n",
            "req            INFO \tUsing cached data for weather_data\n",
            "req            INFO \tUsing cached data for race_control_messages\n",
            "core           INFO \tFinished loading data for 20 drivers: ['4', '1', '81', '63', '16', '44', '55', '14', '27', '11', '43', '22', '31', '18', '24', '77', '10', '3', '20', '23']\n"
          ]
        },
        {
          "name": "stdout",
          "output_type": "stream",
          "text": [
            "Saved Singapore GP results: ..\\data\\singapore_gp_results_2008_2024.csv\n",
            "Total records: 358\n"
          ]
        }
      ],
      "source": [
        "def collect_singapore_gp_results():\n",
        "    \"\"\"Collect Singapore GP results from 2008-2024 using FastF1\"\"\"\n",
        "    \n",
        "    singapore_results = []\n",
        "    \n",
        "    # Singapore GP started in 2008\n",
        "    for year in range(2008, 2025):\n",
        "        try:\n",
        "            print(f\"Collecting {year} Singapore GP data...\")\n",
        "            \n",
        "            # Get race session\n",
        "            session = fastf1.get_session(year, 'Singapore', 'R')\n",
        "            session.load()\n",
        "            \n",
        "            # Get results\n",
        "            results = session.results\n",
        "            \n",
        "            # Index(['DriverNumber', 'BroadcastName', 'Abbreviation', 'DriverId', 'TeamName',\n",
        "       #'TeamColor', 'TeamId', 'FirstName', 'LastName', 'FullName',\n",
        "       #'HeadshotUrl', 'CountryCode', 'Position', 'ClassifiedPosition',\n",
        "       #'GridPosition', 'Q1', 'Q2', 'Q3', 'Time', 'Status', 'Points', 'Laps'],\n",
        "      #dtype='object')\n",
        "\n",
        "            # Add year and race info\n",
        "            results['Year'] = year\n",
        "            results['Race'] = 'Singapore'\n",
        "            results['Date'] = session.date\n",
        "            \n",
        "            # Select relevant columns\n",
        "            cols_to_keep = ['Year', 'Race', 'Date', 'Abbreviation', 'FullName', 'TeamName', \n",
        "                          'Position', 'Points', 'GridPosition', 'Status', 'Time', 'FastestLapTime']\n",
        "            \n",
        "            available_cols = [col for col in cols_to_keep if col in results.columns]\n",
        "            results_subset = results[available_cols].copy()\n",
        "            \n",
        "            singapore_results.append(results_subset)\n",
        "            \n",
        "            # Small delay to be respectful to the API\n",
        "            time.sleep(1)\n",
        "            \n",
        "        except Exception as e:\n",
        "            print(f\"Error collecting {year} data: {e}\")\n",
        "            continue\n",
        "    \n",
        "    # Combine all results\n",
        "    if singapore_results:\n",
        "        all_results = pd.concat(singapore_results, ignore_index=True)\n",
        "        \n",
        "        # Save to CSV\n",
        "        output_path = data_dir / 'singapore_gp_results_2008_2024.csv'\n",
        "        all_results.to_csv(output_path, index=False)\n",
        "        print(f\"Saved Singapore GP results: {output_path}\")\n",
        "        print(f\"Total records: {len(all_results)}\")\n",
        "        \n",
        "        return all_results\n",
        "    else:\n",
        "        print(\"No data collected\")\n",
        "        return None\n",
        "\n",
        "# Run the collection\n",
        "singapore_results = collect_singapore_gp_results()\n"
      ]
    },
    {
      "cell_type": "markdown",
      "metadata": {},
      "source": [
        "## 2. Weather Data Collection\n"
      ]
    },
    {
      "cell_type": "code",
      "execution_count": 3,
      "metadata": {},
      "outputs": [
        {
          "name": "stderr",
          "output_type": "stream",
          "text": [
            "core           INFO \tLoading data for Singapore Grand Prix - Race [v3.6.1]\n",
            "req            INFO \tNo cached data found for session_info. Loading data...\n",
            "_api           INFO \tFetching session info data...\n"
          ]
        },
        {
          "name": "stdout",
          "output_type": "stream",
          "text": [
            "Collecting weather data for Singapore GP...\n",
            "Collecting weather data for Singapore GP years: [2008, 2009, 2010, 2011, 2012, 2013, 2014, 2015, 2016, 2017, 2018, 2019, 2020, 2021, 2022, 2023, 2024]\n",
            "Attempting to collect weather data from FastF1...\n"
          ]
        },
        {
          "name": "stderr",
          "output_type": "stream",
          "text": [
            "logger      WARNING \tFailed to load session info data!\n",
            "core        WARNING \tCannot load laps, telemetry, weather, and message data because the relevant API is not supported for this session.\n",
            "core           INFO \tFinished loading data for 20 drivers: ['5', '7', '22', '12', '15', '3', '9', '8', '16', '23', '4', '14', '2', '21', '1', '11', '20', '10', '17', '6']\n",
            "core           INFO \tLoading data for Singapore Grand Prix - Race [v3.6.1]\n",
            "req            INFO \tNo cached data found for session_info. Loading data...\n",
            "_api           INFO \tFetching session info data...\n"
          ]
        },
        {
          "name": "stdout",
          "output_type": "stream",
          "text": [
            "Error getting FastF1 weather data for 2008: The data you are trying to access has not been loaded yet. See `Session.load`\n",
            "✗ No FastF1 weather data for 2008\n"
          ]
        },
        {
          "name": "stderr",
          "output_type": "stream",
          "text": [
            "logger      WARNING \tFailed to load session info data!\n",
            "core        WARNING \tCannot load laps, telemetry, weather, and message data because the relevant API is not supported for this session.\n",
            "core           INFO \tFinished loading data for 20 drivers: ['1', '10', '7', '15', '22', '23', '2', '5', '17', '4', '16', '9', '3', '21', '11', '12', '14', '20', '6', '8']\n",
            "core           INFO \tLoading data for Singapore Grand Prix - Race [v3.6.1]\n",
            "req            INFO \tNo cached data found for session_info. Loading data...\n",
            "_api           INFO \tFetching session info data...\n"
          ]
        },
        {
          "name": "stdout",
          "output_type": "stream",
          "text": [
            "Error getting FastF1 weather data for 2009: The data you are trying to access has not been loaded yet. See `Session.load`\n",
            "✗ No FastF1 weather data for 2009\n"
          ]
        },
        {
          "name": "stderr",
          "output_type": "stream",
          "text": [
            "logger      WARNING \tFailed to load session info data!\n",
            "core        WARNING \tCannot load laps, telemetry, weather, and message data because the relevant API is not supported for this session.\n",
            "core           INFO \tFinished loading data for 24 drivers: ['8', '5', '6', '1', '4', '9', '11', '7', '14', '10', '12', '17', '3', '16', '25', '19', '24', '22', '2', '20', '23', '21', '18', '15']\n",
            "core           INFO \tLoading data for Singapore Grand Prix - Race [v3.6.1]\n",
            "req            INFO \tNo cached data found for session_info. Loading data...\n",
            "_api           INFO \tFetching session info data...\n"
          ]
        },
        {
          "name": "stdout",
          "output_type": "stream",
          "text": [
            "Error getting FastF1 weather data for 2010: The data you are trying to access has not been loaded yet. See `Session.load`\n",
            "✗ No FastF1 weather data for 2010\n"
          ]
        },
        {
          "name": "stderr",
          "output_type": "stream",
          "text": [
            "logger      WARNING \tFailed to load session info data!\n",
            "core        WARNING \tCannot load laps, telemetry, weather, and message data because the relevant API is not supported for this session.\n",
            "core           INFO \tFinished loading data for 24 drivers: ['1', '4', '2', '5', '3', '15', '8', '14', '6', '17', '12', '18', '11', '16', '9', '20', '10', '25', '22', '23', '19', '21', '7', '24']\n",
            "core           INFO \tLoading data for Singapore Grand Prix - Race [v3.6.1]\n",
            "req            INFO \tNo cached data found for session_info. Loading data...\n",
            "_api           INFO \tFetching session info data...\n"
          ]
        },
        {
          "name": "stdout",
          "output_type": "stream",
          "text": [
            "Error getting FastF1 weather data for 2011: The data you are trying to access has not been loaded yet. See `Session.load`\n",
            "✗ No FastF1 weather data for 2011\n"
          ]
        },
        {
          "name": "stderr",
          "output_type": "stream",
          "text": [
            "logger      WARNING \tFailed to load session info data!\n",
            "core        WARNING \tCannot load laps, telemetry, weather, and message data because the relevant API is not supported for this session.\n",
            "core           INFO \tFinished loading data for 24 drivers: ['1', '3', '5', '11', '8', '9', '10', '6', '16', '15', '2', '24', '14', '12', '20', '25', '22', '19', '21', '17', '7', '18', '23', '4']\n",
            "core           INFO \tLoading data for Singapore Grand Prix - Race [v3.6.1]\n",
            "req            INFO \tNo cached data found for session_info. Loading data...\n",
            "_api           INFO \tFetching session info data...\n"
          ]
        },
        {
          "name": "stdout",
          "output_type": "stream",
          "text": [
            "Error getting FastF1 weather data for 2012: The data you are trying to access has not been loaded yet. See `Session.load`\n",
            "✗ No FastF1 weather data for 2012\n"
          ]
        },
        {
          "name": "stderr",
          "output_type": "stream",
          "text": [
            "logger      WARNING \tFailed to load session info data!\n",
            "core        WARNING \tCannot load laps, telemetry, weather, and message data because the relevant API is not supported for this session.\n",
            "core           INFO \tFinished loading data for 22 drivers: ['1', '3', '7', '9', '10', '4', '5', '6', '11', '15', '16', '12', '17', '18', '2', '21', '23', '22', '20', '14', '8', '19']\n",
            "core           INFO \tLoading data for Singapore Grand Prix - Race [v3.6.1]\n",
            "req            INFO \tNo cached data found for session_info. Loading data...\n",
            "_api           INFO \tFetching session info data...\n"
          ]
        },
        {
          "name": "stdout",
          "output_type": "stream",
          "text": [
            "Error getting FastF1 weather data for 2013: The data you are trying to access has not been loaded yet. See `Session.load`\n",
            "✗ No FastF1 weather data for 2013\n"
          ]
        },
        {
          "name": "stderr",
          "output_type": "stream",
          "text": [
            "logger      WARNING \tFailed to load session info data!\n",
            "core        WARNING \tCannot load laps, telemetry, weather, and message data because the relevant API is not supported for this session.\n",
            "core           INFO \tFinished loading data for 22 drivers: ['44', '1', '3', '14', '19', '25', '11', '7', '27', '20', '77', '13', '8', '26', '9', '17', '4', '22', '99', '21', '6', '10']\n",
            "core           INFO \tLoading data for Singapore Grand Prix - Race [v3.6.1]\n",
            "req            INFO \tNo cached data found for session_info. Loading data...\n",
            "_api           INFO \tFetching session info data...\n"
          ]
        },
        {
          "name": "stdout",
          "output_type": "stream",
          "text": [
            "Error getting FastF1 weather data for 2014: The data you are trying to access has not been loaded yet. See `Session.load`\n",
            "✗ No FastF1 weather data for 2014\n"
          ]
        },
        {
          "name": "stderr",
          "output_type": "stream",
          "text": [
            "logger      WARNING \tFailed to load session info data!\n",
            "core        WARNING \tCannot load laps, telemetry, weather, and message data because the relevant API is not supported for this session.\n",
            "core           INFO \tFinished loading data for 20 drivers: ['5', '3', '7', '6', '77', '26', '11', '33', '55', '12', '9', '13', '8', '53', '28', '22', '14', '44', '19', '27']\n",
            "core           INFO \tLoading data for Singapore Grand Prix - Race [v3.6.1]\n",
            "req            INFO \tNo cached data found for session_info. Loading data...\n",
            "_api           INFO \tFetching session info data...\n"
          ]
        },
        {
          "name": "stdout",
          "output_type": "stream",
          "text": [
            "Error getting FastF1 weather data for 2015: The data you are trying to access has not been loaded yet. See `Session.load`\n",
            "✗ No FastF1 weather data for 2015\n"
          ]
        },
        {
          "name": "stderr",
          "output_type": "stream",
          "text": [
            "logger      WARNING \tFailed to load session info data!\n",
            "core        WARNING \tCannot load laps, telemetry, weather, and message data because the relevant API is not supported for this session.\n",
            "core           INFO \tFinished loading data for 22 drivers: ['6', '3', '44', '7', '5', '33', '14', '11', '26', '20', '21', '19', '12', '55', '30', '94', '9', '31', '22', '77', '27', '8']\n",
            "core           INFO \tLoading data for Singapore Grand Prix - Race [v3.6.1]\n",
            "req            INFO \tNo cached data found for session_info. Loading data...\n",
            "_api           INFO \tFetching session info data...\n"
          ]
        },
        {
          "name": "stdout",
          "output_type": "stream",
          "text": [
            "Error getting FastF1 weather data for 2016: The data you are trying to access has not been loaded yet. See `Session.load`\n",
            "✗ No FastF1 weather data for 2016\n"
          ]
        },
        {
          "name": "stderr",
          "output_type": "stream",
          "text": [
            "logger      WARNING \tFailed to load session info data!\n",
            "core        WARNING \tCannot load laps, telemetry, weather, and message data because the relevant API is not supported for this session.\n",
            "core           INFO \tFinished loading data for 20 drivers: ['44', '3', '77', '55', '11', '30', '2', '18', '8', '31', '19', '94', '20', '27', '9', '26', '14', '5', '33', '7']\n",
            "core           INFO \tLoading data for Singapore Grand Prix - Race [v3.6.1]\n",
            "req            INFO \tUsing cached data for session_info\n",
            "req            INFO \tUsing cached data for driver_info\n",
            "req            INFO \tUsing cached data for session_status_data\n",
            "req            INFO \tUsing cached data for lap_count\n",
            "req            INFO \tUsing cached data for track_status_data\n",
            "req            INFO \tUsing cached data for _extended_timing_data\n",
            "req            INFO \tUsing cached data for timing_app_data\n",
            "core           INFO \tProcessing timing data...\n"
          ]
        },
        {
          "name": "stdout",
          "output_type": "stream",
          "text": [
            "Error getting FastF1 weather data for 2017: The data you are trying to access has not been loaded yet. See `Session.load`\n",
            "✗ No FastF1 weather data for 2017\n"
          ]
        },
        {
          "name": "stderr",
          "output_type": "stream",
          "text": [
            "req            INFO \tUsing cached data for car_data\n",
            "req            INFO \tUsing cached data for position_data\n",
            "req            INFO \tUsing cached data for weather_data\n",
            "req            INFO \tUsing cached data for race_control_messages\n",
            "core        WARNING \tDriver 44 completed the race distance 00:00.017000 before the recorded end of the session.\n",
            "core           INFO \tFinished loading data for 20 drivers: ['44', '33', '5', '77', '7', '3', '14', '55', '16', '27', '9', '2', '10', '18', '8', '11', '28', '20', '35', '31']\n",
            "core           INFO \tLoading data for Singapore Grand Prix - Race [v3.6.1]\n",
            "req            INFO \tUsing cached data for session_info\n",
            "req            INFO \tUsing cached data for driver_info\n",
            "req            INFO \tUsing cached data for session_status_data\n",
            "req            INFO \tUsing cached data for lap_count\n",
            "req            INFO \tUsing cached data for track_status_data\n",
            "req            INFO \tUsing cached data for _extended_timing_data\n",
            "req            INFO \tUsing cached data for timing_app_data\n",
            "core           INFO \tProcessing timing data...\n"
          ]
        },
        {
          "name": "stdout",
          "output_type": "stream",
          "text": [
            "✓ Collected FastF1 weather data for 2018\n"
          ]
        },
        {
          "name": "stderr",
          "output_type": "stream",
          "text": [
            "req            INFO \tUsing cached data for car_data\n",
            "req            INFO \tUsing cached data for position_data\n",
            "req            INFO \tUsing cached data for weather_data\n",
            "req            INFO \tUsing cached data for race_control_messages\n",
            "core        WARNING \tDriver 5 completed the race distance 00:00.171000 before the recorded end of the session.\n",
            "core           INFO \tFinished loading data for 20 drivers: ['5', '16', '33', '44', '77', '23', '4', '10', '27', '99', '8', '55', '18', '3', '26', '88', '20', '7', '11', '63']\n",
            "events      WARNING \tCorrecting user input 'Singapore' to 'Hungarian Grand Prix'\n",
            "core           INFO \tLoading data for Hungarian Grand Prix - Race [v3.6.1]\n",
            "req            INFO \tUsing cached data for session_info\n",
            "req            INFO \tUsing cached data for driver_info\n",
            "req            INFO \tUsing cached data for session_status_data\n",
            "req            INFO \tUsing cached data for lap_count\n",
            "req            INFO \tUsing cached data for track_status_data\n",
            "req            INFO \tUsing cached data for _extended_timing_data\n",
            "req            INFO \tUsing cached data for timing_app_data\n",
            "core           INFO \tProcessing timing data...\n"
          ]
        },
        {
          "name": "stdout",
          "output_type": "stream",
          "text": [
            "✓ Collected FastF1 weather data for 2019\n"
          ]
        },
        {
          "name": "stderr",
          "output_type": "stream",
          "text": [
            "core        WARNING \tFixed incorrect tyre stint information for driver '20'\n",
            "core        WARNING \tFixed incorrect tyre stint information for driver '8'\n",
            "req            INFO \tUsing cached data for car_data\n",
            "req            INFO \tUsing cached data for position_data\n",
            "req            INFO \tUsing cached data for weather_data\n",
            "req            INFO \tUsing cached data for race_control_messages\n",
            "core        WARNING \tDriver 44 completed the race distance 00:00.098000 before the recorded end of the session.\n",
            "core           INFO \tFinished loading data for 20 drivers: ['44', '33', '77', '18', '23', '5', '11', '3', '55', '20', '16', '26', '4', '31', '7', '8', '99', '63', '6', '10']\n",
            "events      WARNING \tCorrecting user input 'Singapore' to 'Hungarian Grand Prix'\n",
            "core           INFO \tLoading data for Hungarian Grand Prix - Race [v3.6.1]\n",
            "req            INFO \tUsing cached data for session_info\n",
            "req            INFO \tUsing cached data for driver_info\n",
            "req            INFO \tUsing cached data for session_status_data\n",
            "req            INFO \tUsing cached data for lap_count\n",
            "req            INFO \tUsing cached data for track_status_data\n",
            "req            INFO \tUsing cached data for _extended_timing_data\n",
            "req            INFO \tUsing cached data for timing_app_data\n",
            "core           INFO \tProcessing timing data...\n"
          ]
        },
        {
          "name": "stdout",
          "output_type": "stream",
          "text": [
            "✓ Collected FastF1 weather data for 2020\n"
          ]
        },
        {
          "name": "stderr",
          "output_type": "stream",
          "text": [
            "req            INFO \tUsing cached data for car_data\n",
            "req            INFO \tUsing cached data for position_data\n",
            "req            INFO \tUsing cached data for weather_data\n",
            "req            INFO \tUsing cached data for race_control_messages\n",
            "core        WARNING \tDriver 31 completed the race distance 00:00.068000 before the recorded end of the session.\n",
            "core           INFO \tFinished loading data for 20 drivers: ['31', '44', '55', '14', '10', '22', '6', '63', '33', '7', '3', '47', '99', '9', '4', '77', '11', '16', '18', '5']\n",
            "core           INFO \tLoading data for Singapore Grand Prix - Race [v3.6.1]\n",
            "req            INFO \tUsing cached data for session_info\n",
            "req            INFO \tUsing cached data for driver_info\n",
            "req            INFO \tUsing cached data for session_status_data\n",
            "req            INFO \tUsing cached data for lap_count\n",
            "req            INFO \tUsing cached data for track_status_data\n",
            "req            INFO \tUsing cached data for _extended_timing_data\n",
            "req            INFO \tUsing cached data for timing_app_data\n",
            "core           INFO \tProcessing timing data...\n"
          ]
        },
        {
          "name": "stdout",
          "output_type": "stream",
          "text": [
            "✓ Collected FastF1 weather data for 2021\n"
          ]
        },
        {
          "name": "stderr",
          "output_type": "stream",
          "text": [
            "req            INFO \tUsing cached data for car_data\n",
            "req            INFO \tUsing cached data for position_data\n",
            "req            INFO \tUsing cached data for weather_data\n",
            "req            INFO \tUsing cached data for race_control_messages\n",
            "core           INFO \tFinished loading data for 20 drivers: ['11', '16', '55', '4', '3', '18', '1', '5', '44', '10', '77', '20', '47', '63', '22', '31', '23', '14', '6', '24']\n",
            "core           INFO \tLoading data for Singapore Grand Prix - Race [v3.6.1]\n",
            "req            INFO \tUsing cached data for session_info\n",
            "req            INFO \tUsing cached data for driver_info\n",
            "req            INFO \tUsing cached data for session_status_data\n",
            "req            INFO \tUsing cached data for lap_count\n",
            "req            INFO \tUsing cached data for track_status_data\n",
            "req            INFO \tUsing cached data for _extended_timing_data\n",
            "req            INFO \tUsing cached data for timing_app_data\n",
            "core           INFO \tProcessing timing data...\n"
          ]
        },
        {
          "name": "stdout",
          "output_type": "stream",
          "text": [
            "✓ Collected FastF1 weather data for 2022\n"
          ]
        },
        {
          "name": "stderr",
          "output_type": "stream",
          "text": [
            "core        WARNING \tNo lap data for driver 18\n",
            "core        WARNING \tFailed to perform lap accuracy check - all laps marked as inaccurate (driver 18)\n",
            "req            INFO \tUsing cached data for car_data\n",
            "req            INFO \tUsing cached data for position_data\n",
            "req            INFO \tUsing cached data for weather_data\n",
            "req            INFO \tUsing cached data for race_control_messages\n",
            "core           INFO \tFinished loading data for 20 drivers: ['55', '4', '44', '16', '1', '10', '81', '11', '40', '20', '23', '24', '27', '2', '14', '63', '77', '31', '22', '18']\n",
            "core           INFO \tLoading data for Singapore Grand Prix - Race [v3.6.1]\n",
            "req            INFO \tUsing cached data for session_info\n",
            "req            INFO \tUsing cached data for driver_info\n",
            "req            INFO \tUsing cached data for session_status_data\n",
            "req            INFO \tUsing cached data for lap_count\n",
            "req            INFO \tUsing cached data for track_status_data\n",
            "req            INFO \tUsing cached data for _extended_timing_data\n",
            "req            INFO \tUsing cached data for timing_app_data\n",
            "core           INFO \tProcessing timing data...\n"
          ]
        },
        {
          "name": "stdout",
          "output_type": "stream",
          "text": [
            "✓ Collected FastF1 weather data for 2023\n"
          ]
        },
        {
          "name": "stderr",
          "output_type": "stream",
          "text": [
            "req            INFO \tUsing cached data for car_data\n",
            "req            INFO \tUsing cached data for position_data\n",
            "req            INFO \tUsing cached data for weather_data\n",
            "req            INFO \tUsing cached data for race_control_messages\n",
            "core           INFO \tFinished loading data for 20 drivers: ['4', '1', '81', '63', '16', '44', '55', '14', '27', '11', '43', '22', '31', '18', '24', '77', '10', '3', '20', '23']\n"
          ]
        },
        {
          "name": "stdout",
          "output_type": "stream",
          "text": [
            "✓ Collected FastF1 weather data for 2024\n",
            "Creating synthetic weather data to fill gaps...\n",
            "Creating synthetic weather data based on Singapore climate patterns...\n",
            "Saved weather data: ..\\data\\singapore_weather_2008_2024.csv\n",
            "Total records: 17\n",
            "Weather data collected: 17 records\n",
            "\n",
            "Sample weather data:\n",
            "                      Time  AirTemp  Humidity  Pressure Rainfall  TrackTemp  \\\n",
            "0   0 days 00:00:03.989000     29.9      64.1    1007.1    False       34.2   \n",
            "133 0 days 00:00:11.591000     30.0      70.7    1009.7    False       37.3   \n",
            "288 0 days 00:00:05.600000     20.4      79.5     986.6     True       26.7   \n",
            "422 0 days 00:00:31.224000     29.1      55.5     978.6    False       47.0   \n",
            "613 0 days 00:00:18.363000     25.2      90.0    1007.7     True       24.5   \n",
            "\n",
            "     WindDirection  WindSpeed  Year       Race  ... Temperature_Min_C  \\\n",
            "0            168.0        1.8  2018  Singapore  ...               NaN   \n",
            "133          176.0        2.9  2019  Singapore  ...               NaN   \n",
            "288          114.0        1.5  2020  Singapore  ...               NaN   \n",
            "422           82.0        0.9  2021  Singapore  ...               NaN   \n",
            "613           21.0        0.8  2022  Singapore  ...               NaN   \n",
            "\n",
            "     Temperature_Max_C  Temperature_Avg_C  Humidity_Percent  Precipitation_mm  \\\n",
            "0                  NaN                NaN               NaN               NaN   \n",
            "133                NaN                NaN               NaN               NaN   \n",
            "288                NaN                NaN               NaN               NaN   \n",
            "422                NaN                NaN               NaN               NaN   \n",
            "613                NaN                NaN               NaN               NaN   \n",
            "\n",
            "     Wind_Speed_kmh  Wind_Direction_deg  Pressure_hPa  Weather_Condition  \\\n",
            "0               NaN                 NaN           NaN                NaN   \n",
            "133             NaN                 NaN           NaN                NaN   \n",
            "288             NaN                 NaN           NaN                NaN   \n",
            "422             NaN                 NaN           NaN                NaN   \n",
            "613             NaN                 NaN           NaN                NaN   \n",
            "\n",
            "    Data_Source  \n",
            "0           NaN  \n",
            "133         NaN  \n",
            "288         NaN  \n",
            "422         NaN  \n",
            "613         NaN  \n",
            "\n",
            "[5 rows x 21 columns]\n",
            "\n",
            "Weather conditions distribution:\n",
            "Weather_Condition\n",
            "Light Rain    8\n",
            "Rain          1\n",
            "Clear         1\n",
            "Name: count, dtype: int64\n"
          ]
        }
      ],
      "source": [
        "# Import weather data collector\n",
        "import sys\n",
        "sys.path.append('.')\n",
        "from weather_data_collector import WeatherDataCollector\n",
        "\n",
        "# Initialize weather collector\n",
        "weather_collector = WeatherDataCollector(data_dir)\n",
        "\n",
        "# Collect weather data\n",
        "print(\"Collecting weather data for Singapore GP...\")\n",
        "weather_data = weather_collector.collect_weather_data()\n",
        "\n",
        "if weather_data is not None:\n",
        "    print(f\"Weather data collected: {len(weather_data)} records\")\n",
        "    print(\"\\nSample weather data:\")\n",
        "    print(weather_data.head())\n",
        "    \n",
        "    # Show weather conditions distribution\n",
        "    if 'Weather_Condition' in weather_data.columns:\n",
        "        print(\"\\nWeather conditions distribution:\")\n",
        "        print(weather_data['Weather_Condition'].value_counts())\n",
        "else:\n",
        "    print(\"No weather data collected\")\n"
      ]
    },
    {
      "cell_type": "markdown",
      "metadata": {},
      "source": [
        "## 3. Historical F1 Data Collection (Ergast API)\n"
      ]
    },
    {
      "cell_type": "code",
      "execution_count": null,
      "metadata": {},
      "outputs": [],
      "source": [
        "# Import Ergast data collector\n",
        "from ergast_data_collector import ErgastDataCollector\n",
        "\n",
        "# Initialize Ergast collector\n",
        "ergast_collector = ErgastDataCollector(data_dir)\n",
        "\n",
        "# Collect comprehensive historical data\n",
        "print(\"Collecting historical F1 data from Ergast API...\")\n",
        "print(\"This may take a few minutes...\")\n",
        "\n",
        "historical_data = ergast_collector.collect_all_data()\n",
        "\n",
        "# Print summary of collected data\n",
        "print(\"\\n=== HISTORICAL DATA COLLECTION SUMMARY ===\")\n",
        "for data_type, df in historical_data.items():\n",
        "    if df is not None:\n",
        "        print(f\"✓ {data_type}: {len(df)} records\")\n",
        "    else:\n",
        "        print(f\"✗ {data_type}: No data collected\")\n"
      ]
    },
    {
      "cell_type": "markdown",
      "metadata": {},
      "source": [
        "## 4. Data Analysis and Validation\n"
      ]
    },
    {
      "cell_type": "code",
      "execution_count": 10,
      "metadata": {},
      "outputs": [
        {
          "name": "stdout",
          "output_type": "stream",
          "text": [
            "=== COMPREHENSIVE DATA ANALYSIS ===\n",
            "\n",
            "Total data files collected: 2\n",
            "📁 singapore_gp_results_2008_2024.csv\n",
            "📁 singapore_weather_2008_2024.csv\n",
            "\n",
            "==================================================\n",
            "\n",
            "🏁 SINGAPORE GP RESULTS ANALYSIS\n",
            "Years covered: 2008 - 2024\n",
            "Total races: 17\n",
            "Total drivers: 73\n",
            "Total constructors: 30\n",
            "\n",
            "🏆 Singapore GP Winners:\n",
            "2008: Fernando Alonso (ALO) - Renault\n",
            "2009: Lewis Hamilton (HAM) - McLaren\n",
            "2010: Fernando Alonso (ALO) - Ferrari\n",
            "2011: Sebastian Vettel (VET) - Red Bull\n",
            "2012: Sebastian Vettel (VET) - Red Bull\n",
            "2013: Sebastian Vettel (VET) - Red Bull\n",
            "2014: Lewis Hamilton (HAM) - Mercedes\n",
            "2015: Sebastian Vettel (VET) - Ferrari\n",
            "2016: Nico Rosberg (ROS) - Mercedes\n",
            "2017: Lewis Hamilton (HAM) - Mercedes\n",
            "2018: Lewis Hamilton (HAM) - Mercedes\n",
            "2019: Sebastian Vettel (VET) - Ferrari\n",
            "2020: Lewis Hamilton (HAM) - Mercedes\n",
            "2021: Esteban Ocon (OCO) - Alpine\n",
            "2022: Sergio Perez (PER) - Red Bull Racing\n",
            "2023: Carlos Sainz (SAI) - Ferrari\n",
            "2024: Lando Norris (NOR) - McLaren\n",
            "\n",
            "📊 Most Successful Drivers at Singapore GP:\n",
            "Abbreviation\n",
            "HAM    5\n",
            "VET    5\n",
            "ALO    2\n",
            "ROS    1\n",
            "OCO    1\n",
            "Name: count, dtype: int64\n",
            "\n",
            "🏭 Most Successful Constructors at Singapore GP:\n",
            "TeamName\n",
            "Mercedes    5\n",
            "Ferrari     4\n",
            "Red Bull    3\n",
            "McLaren     2\n",
            "Renault     1\n",
            "Name: count, dtype: int64\n",
            "\n",
            "\n",
            "🌤️ WEATHER DATA ANALYSIS\n",
            "Years covered: 2008 - 2024\n",
            "Total weather records: 17\n",
            "\n",
            "🌦️ Weather Conditions Distribution:\n",
            "Weather_Condition\n",
            "Light Rain    8\n",
            "Rain          1\n",
            "Clear         1\n",
            "Name: count, dtype: int64\n",
            "\n",
            "🌡️ Temperature Statistics:\n",
            "Average: 28.4°C\n",
            "Min: 27.0°C\n",
            "Max: 30.3°C\n",
            "\n",
            "==================================================\n",
            "✅ Data collection and analysis complete!\n"
          ]
        }
      ],
      "source": [
        "# Comprehensive data analysis and validation\n",
        "def analyze_collected_data():\n",
        "    \"\"\"Analyze all collected data and provide insights, with robust handling for missing columns\"\"\"\n",
        "    \n",
        "    print(\"=== COMPREHENSIVE DATA ANALYSIS ===\\n\")\n",
        "    \n",
        "    # Check what data files we have\n",
        "    data_files = list(data_dir.glob('*.csv'))\n",
        "    print(f\"Total data files collected: {len(data_files)}\")\n",
        "    \n",
        "    for file in data_files:\n",
        "        print(f\"📁 {file.name}\")\n",
        "    \n",
        "    print(\"\\n\" + \"=\"*50)\n",
        "    \n",
        "    # Analyze Singapore GP results\n",
        "    singapore_file = data_dir / 'singapore_gp_results_2008_2024.csv'\n",
        "    if singapore_file.exists():\n",
        "        print(\"\\n🏁 SINGAPORE GP RESULTS ANALYSIS\")\n",
        "        results_df = pd.read_csv(singapore_file)\n",
        "        \n",
        "        # Print years covered and total races\n",
        "        if 'Year' in results_df.columns:\n",
        "            print(f\"Years covered: {results_df['Year'].min()} - {results_df['Year'].max()}\")\n",
        "            print(f\"Total races: {results_df['Year'].nunique()}\")\n",
        "        else:\n",
        "            print(\"Year column not found in Singapore GP results.\")\n",
        "        \n",
        "        # Print total drivers\n",
        "        driver_code_col = None\n",
        "        for col in ['DriverCode', 'Abbreviation', 'DriverId']:\n",
        "            if col in results_df.columns:\n",
        "                driver_code_col = col\n",
        "                break\n",
        "        if driver_code_col:\n",
        "            print(f\"Total drivers: {results_df[driver_code_col].nunique()}\")\n",
        "        else:\n",
        "            print(\"No driver code/abbreviation column found in Singapore GP results.\")\n",
        "        \n",
        "        # Print total constructors\n",
        "        constructor_col = None\n",
        "        for col in ['ConstructorName', 'TeamName']:\n",
        "            if col in results_df.columns:\n",
        "                constructor_col = col\n",
        "                break\n",
        "        if constructor_col:\n",
        "            print(f\"Total constructors: {results_df[constructor_col].nunique()}\")\n",
        "        else:\n",
        "            print(\"No constructor/team column found in Singapore GP results.\")\n",
        "        \n",
        "        # Show winners\n",
        "        position_col = None\n",
        "        for col in ['Position', 'positionOrder', 'Pos']:\n",
        "            if col in results_df.columns:\n",
        "                position_col = col\n",
        "                break\n",
        "        if position_col and driver_code_col and constructor_col:\n",
        "            winners = results_df[results_df[position_col] == 1].copy()\n",
        "            # Try to get driver name columns\n",
        "            given_col = None\n",
        "            family_col = None\n",
        "            for g in ['DriverGivenName', 'GivenName', 'FullName']:\n",
        "                if g in results_df.columns:\n",
        "                    given_col = g\n",
        "                    break\n",
        "            for f in ['DriverFamilyName', 'FamilyName']:\n",
        "                if f in results_df.columns:\n",
        "                    family_col = f\n",
        "                    break\n",
        "            print(\"\\n🏆 Singapore GP Winners:\")\n",
        "            for _, winner in winners.iterrows():\n",
        "                year = winner['Year'] if 'Year' in winner else \"?\"\n",
        "                driver_code = winner[driver_code_col]\n",
        "                constructor = winner[constructor_col]\n",
        "                if given_col and family_col:\n",
        "                    print(f\"{year}: {winner[given_col]} {winner[family_col]} ({driver_code}) - {constructor}\")\n",
        "                elif given_col:\n",
        "                    print(f\"{year}: {winner[given_col]} ({driver_code}) - {constructor}\")\n",
        "                else:\n",
        "                    print(f\"{year}: {driver_code} - {constructor}\")\n",
        "        else:\n",
        "            print(\"Could not determine winners due to missing columns.\")\n",
        "        \n",
        "        # Most successful drivers at Singapore\n",
        "        if position_col and driver_code_col:\n",
        "            print(\"\\n📊 Most Successful Drivers at Singapore GP:\")\n",
        "            driver_wins = results_df[results_df[position_col] == 1][driver_code_col].value_counts()\n",
        "            print(driver_wins.head())\n",
        "        else:\n",
        "            print(\"Cannot compute most successful drivers (missing columns).\")\n",
        "        \n",
        "        # Most successful constructors at Singapore\n",
        "        if position_col and constructor_col:\n",
        "            print(\"\\n🏭 Most Successful Constructors at Singapore GP:\")\n",
        "            constructor_wins = results_df[results_df[position_col] == 1][constructor_col].value_counts()\n",
        "            print(constructor_wins.head())\n",
        "        else:\n",
        "            print(\"Cannot compute most successful constructors (missing columns).\")\n",
        "    \n",
        "    # Analyze driver standings\n",
        "    driver_standings_file = data_dir / 'driver_standings_2015_2024.csv'\n",
        "    if driver_standings_file.exists():\n",
        "        print(\"\\n\\n👤 DRIVER STANDINGS ANALYSIS\")\n",
        "        standings_df = pd.read_csv(driver_standings_file)\n",
        "        \n",
        "        if 'Year' in standings_df.columns:\n",
        "            print(f\"Years covered: {standings_df['Year'].min()} - {standings_df['Year'].max()}\")\n",
        "        print(f\"Total driver-season records: {len(standings_df)}\")\n",
        "        \n",
        "        # Top drivers by total points\n",
        "        driver_code_col = None\n",
        "        for col in ['DriverCode', 'Abbreviation', 'DriverId']:\n",
        "            if col in standings_df.columns:\n",
        "                driver_code_col = col\n",
        "                break\n",
        "        if driver_code_col and 'Points' in standings_df.columns:\n",
        "            print(\"\\n🏆 Top Drivers by Total Points (2015-2024):\")\n",
        "            top_drivers = standings_df.groupby(driver_code_col)['Points'].sum().sort_values(ascending=False)\n",
        "            print(top_drivers.head(10))\n",
        "        else:\n",
        "            print(\"Cannot compute top drivers by points (missing columns).\")\n",
        "        \n",
        "        # Most consistent drivers (average position)\n",
        "        if driver_code_col and 'Position' in standings_df.columns:\n",
        "            print(\"\\n📈 Most Consistent Drivers (Average Championship Position):\")\n",
        "            avg_positions = standings_df.groupby(driver_code_col)['Position'].mean().sort_values()\n",
        "            print(avg_positions.head(10))\n",
        "        else:\n",
        "            print(\"Cannot compute most consistent drivers (missing columns).\")\n",
        "    \n",
        "    # Analyze constructor standings\n",
        "    constructor_file = data_dir / 'constructor_standings_2015_2024.csv'\n",
        "    if constructor_file.exists():\n",
        "        print(\"\\n\\n🏭 CONSTRUCTOR STANDINGS ANALYSIS\")\n",
        "        constructor_df = pd.read_csv(constructor_file)\n",
        "        \n",
        "        if 'Year' in constructor_df.columns:\n",
        "            print(f\"Years covered: {constructor_df['Year'].min()} - {constructor_df['Year'].max()}\")\n",
        "        print(f\"Total constructor-season records: {len(constructor_df)}\")\n",
        "        \n",
        "        # Top constructors by total points\n",
        "        constructor_col = None\n",
        "        for col in ['ConstructorName', 'TeamName']:\n",
        "            if col in constructor_df.columns:\n",
        "                constructor_col = col\n",
        "                break\n",
        "        if constructor_col and 'Points' in constructor_df.columns:\n",
        "            print(\"\\n🏆 Top Constructors by Total Points (2015-2024):\")\n",
        "            top_constructors = constructor_df.groupby(constructor_col)['Points'].sum().sort_values(ascending=False)\n",
        "            print(top_constructors.head(10))\n",
        "        else:\n",
        "            print(\"Cannot compute top constructors by points (missing columns).\")\n",
        "    \n",
        "    # Analyze weather data\n",
        "    weather_file = data_dir / 'singapore_weather_2008_2024.csv'\n",
        "    if weather_file.exists():\n",
        "        print(\"\\n\\n🌤️ WEATHER DATA ANALYSIS\")\n",
        "        weather_df = pd.read_csv(weather_file)\n",
        "        \n",
        "        if 'Year' in weather_df.columns:\n",
        "            print(f\"Years covered: {weather_df['Year'].min()} - {weather_df['Year'].max()}\")\n",
        "        print(f\"Total weather records: {len(weather_df)}\")\n",
        "        \n",
        "        if 'Weather_Condition' in weather_df.columns:\n",
        "            print(\"\\n🌦️ Weather Conditions Distribution:\")\n",
        "            print(weather_df['Weather_Condition'].value_counts())\n",
        "        \n",
        "        if 'Temperature_Avg_C' in weather_df.columns:\n",
        "            print(f\"\\n🌡️ Temperature Statistics:\")\n",
        "            print(f\"Average: {weather_df['Temperature_Avg_C'].mean():.1f}°C\")\n",
        "            print(f\"Min: {weather_df['Temperature_Avg_C'].min():.1f}°C\")\n",
        "            print(f\"Max: {weather_df['Temperature_Avg_C'].max():.1f}°C\")\n",
        "    \n",
        "    print(\"\\n\" + \"=\"*50)\n",
        "    print(\"✅ Data collection and analysis complete!\")\n",
        "    \n",
        "    return data_files\n",
        "\n",
        "# Run the analysis\n",
        "data_files = analyze_collected_data()\n"
      ]
    },
    {
      "cell_type": "code",
      "execution_count": null,
      "metadata": {},
      "outputs": [],
      "source": []
    }
  ],
  "metadata": {
    "kernelspec": {
      "display_name": "venv",
      "language": "python",
      "name": "python3"
    },
    "language_info": {
      "codemirror_mode": {
        "name": "ipython",
        "version": 3
      },
      "file_extension": ".py",
      "mimetype": "text/x-python",
      "name": "python",
      "nbconvert_exporter": "python",
      "pygments_lexer": "ipython3",
      "version": "3.13.2"
    }
  },
  "nbformat": 4,
  "nbformat_minor": 2
}
